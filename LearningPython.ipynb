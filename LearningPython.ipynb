{
  "nbformat": 4,
  "nbformat_minor": 0,
  "metadata": {
    "colab": {
      "name": "LearningPython.ipynb",
      "provenance": [],
      "collapsed_sections": [
        "F1WrGxmUoXpq",
        "iaKvG0XUo7Wu"
      ]
    },
    "kernelspec": {
      "name": "python3",
      "display_name": "Python 3"
    }
  },
  "cells": [
    {
      "cell_type": "markdown",
      "metadata": {
        "id": "vjXKl3HqgzFA"
      },
      "source": [
        "# Small Python Projects for Learning\n",
        "\n",
        "1.   Simple Calculator\n",
        "2.   Prime Numbers\n",
        "\n"
      ]
    },
    {
      "cell_type": "markdown",
      "metadata": {
        "id": "F1WrGxmUoXpq"
      },
      "source": [
        "# Simple Calculator"
      ]
    },
    {
      "cell_type": "code",
      "metadata": {
        "id": "odPSYC5ggGcC",
        "outputId": "2bef266a-e0a4-4146-f272-c8d5bea7637b",
        "colab": {
          "base_uri": "https://localhost:8080/",
          "height": 151
        }
      },
      "source": [
        "# Simple Two Number Calculator\n",
        "\n",
        "# Function to add two numbers\n",
        "def add(x, y):\n",
        "    return x + y\n",
        "\n",
        "# Function to subtract two numbers\n",
        "def subtract(x, y):\n",
        "    return x - y\n",
        "\n",
        "# Function to multiply two numbers\n",
        "def multiply(x, y):\n",
        "    return x * y\n",
        "\n",
        "# Function to divide two numbers\n",
        "def divide(x, y):\n",
        "    return x / y\n",
        "# Keeps calculator running\n",
        "running = True\n",
        "\n",
        "while running:\n",
        "    # Menu Options\n",
        "    print(\"Select operation.\")\n",
        "    print(\"1. Add\")\n",
        "    print(\"2. Subtract\")\n",
        "    print(\"3. Multiply\")\n",
        "    print(\"4. Divide\")\n",
        "    print(\"5. Exit\")\n",
        "\n",
        "    # Get user input\n",
        "    choice = input(\"Enter choice(1/2/3/4/5): \")\n",
        "\n",
        "    # Ensure valid option\n",
        "    if choice in ('1', '2', '3', '4', '5'):\n",
        "        if choice != '5':\n",
        "            num1 = float(input(\"Enter first number: \"))\n",
        "            num2 = float(input(\"Enter second number: \"))\n",
        "\n",
        "        if choice == '1':\n",
        "            print(num1, \"+\", num2, \"=\", add(num1, num2))\n",
        "\n",
        "        elif choice == '2':\n",
        "            print(num1, \"-\", num2, \"=\", subtract(num1, num2))\n",
        "\n",
        "        elif choice == '3':\n",
        "            print(num1, \"*\", num2, \"=\", multiply(num1, num2))\n",
        "\n",
        "        elif choice == '4':\n",
        "            print(num1, \"/\", num2, \"=\", divide(num1, num2))\n",
        "\n",
        "        elif choice == '5':\n",
        "            print(\"Calculator Closed...\")\n",
        "            running = False\n",
        "\n",
        "    else:\n",
        "        print(\"Invalid Input\")"
      ],
      "execution_count": 12,
      "outputs": [
        {
          "output_type": "stream",
          "text": [
            "Select operation.\n",
            "1. Add\n",
            "2. Subtract\n",
            "3. Multiply\n",
            "4. Divide\n",
            "5. Exit\n",
            "Enter choice(1/2/3/4/5): 5\n",
            "Calculator Closed...\n"
          ],
          "name": "stdout"
        }
      ]
    },
    {
      "cell_type": "markdown",
      "metadata": {
        "id": "iaKvG0XUo7Wu"
      },
      "source": [
        "# Prime Number Checker"
      ]
    },
    {
      "cell_type": "code",
      "metadata": {
        "id": "2lAYKf1bpZAl",
        "outputId": "568b88bb-d577-47c2-b6c0-d7ef5474a895",
        "colab": {
          "base_uri": "https://localhost:8080/",
          "height": 67
        }
      },
      "source": [
        "# Program to check if a number is prime or not\n",
        "\n",
        "# Get input from user\n",
        "num = int(input(\"Enter a number: \"))\n",
        "\n",
        "# prime numbers are greater than 1\n",
        "if num > 1:\n",
        "   # check for factors\n",
        "   for i in range(2,num):\n",
        "       if (num % i) == 0:\n",
        "           print(num,\"is not a prime number\")\n",
        "           print(i,\"times\",num//i,\"is\",num)\n",
        "           break\n",
        "   else:\n",
        "       print(num,\"is a prime number\")\n",
        "       \n",
        "# if input number is less than\n",
        "# or equal to 1, it is not prime\n",
        "else:\n",
        "   print(num,\"is not a prime number\")"
      ],
      "execution_count": 19,
      "outputs": [
        {
          "output_type": "stream",
          "text": [
            "Enter a number: 876576844\n",
            "876576844 is not a prime number\n",
            "2 times 438288422 is 876576844\n"
          ],
          "name": "stdout"
        }
      ]
    }
  ]
}