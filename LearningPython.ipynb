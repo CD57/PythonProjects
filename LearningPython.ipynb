{
  "nbformat": 4,
  "nbformat_minor": 0,
  "metadata": {
    "colab": {
      "name": "LearningPython.ipynb",
      "provenance": [],
      "collapsed_sections": [],
      "authorship_tag": "ABX9TyMYZL/msBW6oCJoCjM9E2oU"
    },
    "kernelspec": {
      "name": "python3",
      "display_name": "Python 3"
    }
  },
  "cells": [
    {
      "cell_type": "markdown",
      "metadata": {
        "id": "vjXKl3HqgzFA"
      },
      "source": [
        "# Small Python Projects for Learning\n",
        "\n",
        "1.   Simple Calculator\n",
        "2.   Prime Numbers\n",
        "3.   Decimal Converter\n",
        "\n"
      ]
    },
    {
      "cell_type": "markdown",
      "metadata": {
        "id": "F1WrGxmUoXpq"
      },
      "source": [
        "# Simple Calculator"
      ]
    },
    {
      "cell_type": "code",
      "metadata": {
        "id": "odPSYC5ggGcC",
        "outputId": "82269c39-ad45-4aa9-e811-e931426962ae",
        "colab": {
          "base_uri": "https://localhost:8080/",
          "height": 319
        }
      },
      "source": [
        "# Simple Two Number Calculator\n",
        "\n",
        "# Function to add two numbers\n",
        "def add(x, y):\n",
        "    return x + y\n",
        "\n",
        "# Function to subtract two numbers\n",
        "def subtract(x, y):\n",
        "    return x - y\n",
        "\n",
        "# Function to multiply two numbers\n",
        "def multiply(x, y):\n",
        "    return x * y\n",
        "\n",
        "# Function to divide two numbers\n",
        "def divide(x, y):\n",
        "    return x / y\n",
        "# Keeps calculator running\n",
        "running = True\n",
        "\n",
        "while running:\n",
        "    # Menu Options\n",
        "    print(\"Select operation.\")\n",
        "    print(\"1. Add\")\n",
        "    print(\"2. Subtract\")\n",
        "    print(\"3. Multiply\")\n",
        "    print(\"4. Divide\")\n",
        "    print(\"5. Exit\")\n",
        "\n",
        "    # Get user input\n",
        "    choice = input(\"Enter choice(1/2/3/4/5): \")\n",
        "\n",
        "    # Ensure valid option\n",
        "    if choice in ('1', '2', '3', '4', '5'):\n",
        "        if choice != '5':\n",
        "            num1 = float(input(\"Enter first number: \"))\n",
        "            num2 = float(input(\"Enter second number: \"))\n",
        "\n",
        "        if choice == '1':\n",
        "            print(num1, \"+\", num2, \"=\", add(num1, num2))\n",
        "\n",
        "        elif choice == '2':\n",
        "            print(num1, \"-\", num2, \"=\", subtract(num1, num2))\n",
        "\n",
        "        elif choice == '3':\n",
        "            print(num1, \"*\", num2, \"=\", multiply(num1, num2))\n",
        "\n",
        "        elif choice == '4':\n",
        "            print(num1, \"/\", num2, \"=\", divide(num1, num2))\n",
        "\n",
        "        elif choice == '5':\n",
        "            print(\"Calculator Closed...\")\n",
        "            running = False\n",
        "\n",
        "    else:\n",
        "        print(\"Invalid Input\")"
      ],
      "execution_count": null,
      "outputs": [
        {
          "output_type": "stream",
          "text": [
            "Select operation.\n",
            "1. Add\n",
            "2. Subtract\n",
            "3. Multiply\n",
            "4. Divide\n",
            "5. Exit\n",
            "Enter choice(1/2/3/4/5): 3\n",
            "Enter first number: 5\n",
            "Enter second number: 6\n",
            "5.0 * 6.0 = 30.0\n",
            "Select operation.\n",
            "1. Add\n",
            "2. Subtract\n",
            "3. Multiply\n",
            "4. Divide\n",
            "5. Exit\n",
            "Enter choice(1/2/3/4/5): 5\n",
            "Calculator Closed...\n"
          ],
          "name": "stdout"
        }
      ]
    },
    {
      "cell_type": "markdown",
      "metadata": {
        "id": "iaKvG0XUo7Wu"
      },
      "source": [
        "# Prime Number Checker"
      ]
    },
    {
      "cell_type": "code",
      "metadata": {
        "id": "2lAYKf1bpZAl",
        "outputId": "d2c1bd85-fd9b-4284-8ce4-b7ada994e0d1",
        "colab": {
          "base_uri": "https://localhost:8080/",
          "height": 67
        }
      },
      "source": [
        "# Program to check if a number is prime or not\n",
        "\n",
        "# Get input from user\n",
        "num = int(input(\"Enter a number: \"))\n",
        "\n",
        "# prime numbers are greater than 1\n",
        "if num > 1:\n",
        "   # check for factors\n",
        "   for i in range(2,num):\n",
        "       if (num % i) == 0:\n",
        "           print(num,\"is not a prime number\")\n",
        "           print(i,\"times\",num//i,\"is\",num)\n",
        "           break\n",
        "   else:\n",
        "       print(num,\"is a prime number\")\n",
        "       \n",
        "# if prime number is = or < 1\n",
        "else:\n",
        "   print(num,\"is not a prime number\")"
      ],
      "execution_count": null,
      "outputs": [
        {
          "output_type": "stream",
          "text": [
            "Enter a number: 987654321\n",
            "987654321 is not a prime number\n",
            "3 times 329218107 is 987654321\n"
          ],
          "name": "stdout"
        }
      ]
    },
    {
      "cell_type": "markdown",
      "metadata": {
        "id": "gdMwEpFpq_8p"
      },
      "source": [
        "# Decimal Number System Converter"
      ]
    },
    {
      "cell_type": "code",
      "metadata": {
        "id": "EaRHuDyDFpy9",
        "outputId": "2477391c-e08c-4e87-c237-a28392ea7703",
        "colab": {
          "base_uri": "https://localhost:8080/",
          "height": 168
        }
      },
      "source": [
        "# Program to convert user input decimals to binary, octal, and hexidecimal\n",
        "\n",
        "run = True\n",
        "while run :\n",
        "    # Get input from user\n",
        "    decimal = int(input(\"Enter a decimal number (0 to quit): \"))\n",
        "    if decimal == 0 :\n",
        "      run = False\n",
        "      print(\"Session Ended...\")\n",
        "    else:\n",
        "      print(\"The decimal value of\", decimal, \"is:\")\n",
        "      print(bin(decimal), \"in binary.\")\n",
        "      print(oct(decimal), \"in octal.\")\n",
        "      print(hex(decimal), \"in hexadecimal.\")\n",
        "      input(\"Press Enter to continue...\\n\")\n",
        "\n"
      ],
      "execution_count": 6,
      "outputs": [
        {
          "output_type": "stream",
          "text": [
            "Enter a decimal number (0 to quit): 57\n",
            "The decimal value of 57 is:\n",
            "0b111001 in binary.\n",
            "0o71 in octal.\n",
            "0x39 in hexadecimal.\n",
            "Press Enter to continue...\n",
            "\n",
            "Enter a decimal number (0 to quit): 0\n",
            "Session Ended...\n"
          ],
          "name": "stdout"
        }
      ]
    }
  ]
}